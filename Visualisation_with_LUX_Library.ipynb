{
  "nbformat": 4,
  "nbformat_minor": 0,
  "metadata": {
    "colab": {
      "provenance": []
    },
    "kernelspec": {
      "name": "python3",
      "display_name": "Python 3"
    },
    "language_info": {
      "name": "python"
    },
    "widgets": {
      "application/vnd.jupyter.widget-state+json": {
        "770948370fae4e43bca063ff97c439c0": {
          "model_module": "@jupyter-widgets/controls",
          "model_name": "ButtonModel",
          "model_module_version": "1.5.0",
          "state": {
            "_dom_classes": [],
            "_model_module": "@jupyter-widgets/controls",
            "_model_module_version": "1.5.0",
            "_model_name": "ButtonModel",
            "_view_count": null,
            "_view_module": "@jupyter-widgets/controls",
            "_view_module_version": "1.5.0",
            "_view_name": "ButtonView",
            "button_style": "",
            "description": "Toggle Pandas/Lux",
            "disabled": false,
            "icon": "",
            "layout": "IPY_MODEL_7a1a83e925a94a788a8b24e81791eaa8",
            "style": "IPY_MODEL_f18c8fb087a549bcb7d772dfbef1b973",
            "tooltip": ""
          }
        },
        "7a1a83e925a94a788a8b24e81791eaa8": {
          "model_module": "@jupyter-widgets/base",
          "model_name": "LayoutModel",
          "model_module_version": "1.2.0",
          "state": {
            "_model_module": "@jupyter-widgets/base",
            "_model_module_version": "1.2.0",
            "_model_name": "LayoutModel",
            "_view_count": null,
            "_view_module": "@jupyter-widgets/base",
            "_view_module_version": "1.2.0",
            "_view_name": "LayoutView",
            "align_content": null,
            "align_items": null,
            "align_self": null,
            "border": null,
            "bottom": null,
            "display": null,
            "flex": null,
            "flex_flow": null,
            "grid_area": null,
            "grid_auto_columns": null,
            "grid_auto_flow": null,
            "grid_auto_rows": null,
            "grid_column": null,
            "grid_gap": null,
            "grid_row": null,
            "grid_template_areas": null,
            "grid_template_columns": null,
            "grid_template_rows": null,
            "height": null,
            "justify_content": null,
            "justify_items": null,
            "left": null,
            "margin": null,
            "max_height": null,
            "max_width": null,
            "min_height": null,
            "min_width": null,
            "object_fit": null,
            "object_position": null,
            "order": null,
            "overflow": null,
            "overflow_x": null,
            "overflow_y": null,
            "padding": null,
            "right": null,
            "top": "5px",
            "visibility": null,
            "width": "140px"
          }
        },
        "f18c8fb087a549bcb7d772dfbef1b973": {
          "model_module": "@jupyter-widgets/controls",
          "model_name": "ButtonStyleModel",
          "model_module_version": "1.5.0",
          "state": {
            "_model_module": "@jupyter-widgets/controls",
            "_model_module_version": "1.5.0",
            "_model_name": "ButtonStyleModel",
            "_view_count": null,
            "_view_module": "@jupyter-widgets/base",
            "_view_module_version": "1.2.0",
            "_view_name": "StyleView",
            "button_color": null,
            "font_weight": ""
          }
        },
        "aaac1a7f4174401a8897e1270b859215": {
          "model_module": "@jupyter-widgets/output",
          "model_name": "OutputModel",
          "model_module_version": "1.0.0",
          "state": {
            "_dom_classes": [],
            "_model_module": "@jupyter-widgets/output",
            "_model_module_version": "1.0.0",
            "_model_name": "OutputModel",
            "_view_count": null,
            "_view_module": "@jupyter-widgets/output",
            "_view_module_version": "1.0.0",
            "_view_name": "OutputView",
            "layout": "IPY_MODEL_01411d1f65b94374bfceff9720f8f3e1",
            "msg_id": "",
            "outputs": [
              {
                "output_type": "display_data",
                "data": {
                  "text/plain": "LuxWidget(message='<ul><li><code>Pop2023</code>, <code>Pop2022</code>, <code>City</code>, <code>rank</code> is…",
                  "application/vnd.jupyter.widget-view+json": {
                    "version_major": 2,
                    "version_minor": 0,
                    "model_id": "af9327345387435594fac8b12173945b"
                  }
                },
                "metadata": {
                  "application/vnd.jupyter.widget-view+json": {
                    "colab": {
                      "custom_widget_manager": {
                        "url": "https://ssl.gstatic.com/colaboratory-static/widgets/colab-cdn-widget-manager/b3e629b1971e1542/manager.min.js"
                      }
                    }
                  }
                }
              }
            ]
          }
        },
        "01411d1f65b94374bfceff9720f8f3e1": {
          "model_module": "@jupyter-widgets/base",
          "model_name": "LayoutModel",
          "model_module_version": "1.2.0",
          "state": {
            "_model_module": "@jupyter-widgets/base",
            "_model_module_version": "1.2.0",
            "_model_name": "LayoutModel",
            "_view_count": null,
            "_view_module": "@jupyter-widgets/base",
            "_view_module_version": "1.2.0",
            "_view_name": "LayoutView",
            "align_content": null,
            "align_items": null,
            "align_self": null,
            "border": null,
            "bottom": null,
            "display": null,
            "flex": null,
            "flex_flow": null,
            "grid_area": null,
            "grid_auto_columns": null,
            "grid_auto_flow": null,
            "grid_auto_rows": null,
            "grid_column": null,
            "grid_gap": null,
            "grid_row": null,
            "grid_template_areas": null,
            "grid_template_columns": null,
            "grid_template_rows": null,
            "height": null,
            "justify_content": null,
            "justify_items": null,
            "left": null,
            "margin": null,
            "max_height": null,
            "max_width": null,
            "min_height": null,
            "min_width": null,
            "object_fit": null,
            "object_position": null,
            "order": null,
            "overflow": null,
            "overflow_x": null,
            "overflow_y": null,
            "padding": null,
            "right": null,
            "top": null,
            "visibility": null,
            "width": null
          }
        },
        "4445e8109b3b4702b739dc70a4ccc3b3": {
          "model_module": "@jupyter-widgets/base",
          "model_name": "LayoutModel",
          "model_module_version": "1.2.0",
          "state": {
            "_model_module": "@jupyter-widgets/base",
            "_model_module_version": "1.2.0",
            "_model_name": "LayoutModel",
            "_view_count": null,
            "_view_module": "@jupyter-widgets/base",
            "_view_module_version": "1.2.0",
            "_view_name": "LayoutView",
            "align_content": null,
            "align_items": null,
            "align_self": null,
            "border": null,
            "bottom": null,
            "display": null,
            "flex": null,
            "flex_flow": null,
            "grid_area": null,
            "grid_auto_columns": null,
            "grid_auto_flow": null,
            "grid_auto_rows": null,
            "grid_column": null,
            "grid_gap": null,
            "grid_row": null,
            "grid_template_areas": null,
            "grid_template_columns": null,
            "grid_template_rows": null,
            "height": null,
            "justify_content": null,
            "justify_items": null,
            "left": null,
            "margin": null,
            "max_height": null,
            "max_width": null,
            "min_height": null,
            "min_width": null,
            "object_fit": null,
            "object_position": null,
            "order": null,
            "overflow": null,
            "overflow_x": null,
            "overflow_y": null,
            "padding": null,
            "right": null,
            "top": null,
            "visibility": null,
            "width": null
          }
        },
        "af9327345387435594fac8b12173945b": {
          "model_module": "luxwidget",
          "model_name": "LuxModel",
          "model_module_version": "0.1.11",
          "state": {
            "_dom_classes": [],
            "_model_module": "luxwidget",
            "_model_module_version": "0.1.11",
            "_model_name": "LuxModel",
            "_selectedVisIdxs": {},
            "_view_count": null,
            "_view_module": "luxwidget",
            "_view_module_version": "0.1.11",
            "_view_name": "LuxWidgetView",
            "all_column": false,
            "current_vis": {},
            "data": [],
            "deletedIndices": {},
            "intent": "",
            "layout": "IPY_MODEL_4445e8109b3b4702b739dc70a4ccc3b3",
            "message": "<ul><li><code>Pop2023</code>, <code>Pop2022</code>, <code>City</code>, <code>rank</code> is not visualized since it resembles an ID field.</li></ul>",
            "plotting_scale": 1,
            "recommendations": [
              {
                "action": "Distribution",
                "description": "Show univariate histograms of <p class='highlight-descriptor'>quantitative</p>  attributes.",
                "long_description": "Distribution displays univariate histogram distributions of all quantitative attributes (e.g., growthRate). Visualizations are ranked from most to least skewed.",
                "vspec": [
                  {
                    "config": {
                      "view": {
                        "continuousWidth": 400,
                        "continuousHeight": 300
                      },
                      "axis": {
                        "labelColor": "#505050",
                        "labelFont": "Helvetica Neue",
                        "labelFontSize": 9,
                        "labelFontWeight": 400,
                        "titleFont": "Helvetica Neue",
                        "titleFontSize": 11,
                        "titleFontWeight": 500
                      },
                      "legend": {
                        "labelFont": "Helvetica Neue",
                        "labelFontSize": 9,
                        "labelFontWeight": 400,
                        "titleFont": "Helvetica Neue",
                        "titleFontSize": 10,
                        "titleFontWeight": 500
                      },
                      "title": {
                        "font": "Helvetica Neue",
                        "fontSize": 13,
                        "fontWeight": 500
                      }
                    },
                    "data": {
                      "name": "data-234d19e399a982a8784325d7ed2c97da"
                    },
                    "mark": "bar",
                    "encoding": {
                      "x": {
                        "axis": {
                          "title": "growthRate (binned)"
                        },
                        "bin": {
                          "binned": true,
                          "step": 0.009590000000000001
                        },
                        "field": "growthRate",
                        "scale": {
                          "domain": [
                            -0.0348,
                            0.0611
                          ]
                        },
                        "title": "growthRate (binned)",
                        "type": "quantitative"
                      },
                      "x2": {
                        "field": "growthRate_end"
                      },
                      "y": {
                        "field": "Number of Records",
                        "type": "quantitative"
                      }
                    },
                    "height": 150,
                    "width": 160,
                    "$schema": "https://vega.github.io/schema/vega-lite/v4.17.0.json",
                    "datasets": {
                      "data-234d19e399a982a8784325d7ed2c97da": [
                        {
                          "growthRate": -0.0348,
                          "Number of Records": 2,
                          "growthRate_end": -0.024799999999999996
                        },
                        {
                          "growthRate": -0.025209999999999996,
                          "Number of Records": 1,
                          "growthRate_end": -0.015209999999999996
                        },
                        {
                          "growthRate": -0.015619999999999998,
                          "Number of Records": 4,
                          "growthRate_end": -0.005619999999999998
                        },
                        {
                          "growthRate": -0.006030000000000001,
                          "Number of Records": 64,
                          "growthRate_end": 0.00397
                        },
                        {
                          "growthRate": 0.0035600000000000007,
                          "Number of Records": 140,
                          "growthRate_end": 0.013560000000000001
                        },
                        {
                          "growthRate": 0.013150000000000002,
                          "Number of Records": 237,
                          "growthRate_end": 0.023150000000000004
                        },
                        {
                          "growthRate": 0.022739999999999996,
                          "Number of Records": 193,
                          "growthRate_end": 0.03274
                        },
                        {
                          "growthRate": 0.03233,
                          "Number of Records": 82,
                          "growthRate_end": 0.04233
                        },
                        {
                          "growthRate": 0.04192,
                          "Number of Records": 44,
                          "growthRate_end": 0.05192
                        },
                        {
                          "growthRate": 0.05151,
                          "Number of Records": 11,
                          "growthRate_end": 0.06151
                        }
                      ]
                    },
                    "vislib": "vegalite"
                  }
                ]
              },
              {
                "action": "Occurrence",
                "description": "Show frequency of occurrence for <p class='highlight-descriptor'>categorical</p> attributes.",
                "long_description": "Occurence displays bar charts of counts for all categorical attributes (e.g., Continent). Visualizations are ranked from most to least uneven across the bars. ",
                "vspec": [
                  {
                    "config": {
                      "view": {
                        "continuousWidth": 400,
                        "continuousHeight": 300
                      },
                      "axis": {
                        "labelColor": "#505050",
                        "labelFont": "Helvetica Neue",
                        "labelFontSize": 9,
                        "labelFontWeight": 400,
                        "titleFont": "Helvetica Neue",
                        "titleFontSize": 11,
                        "titleFontWeight": 500
                      },
                      "legend": {
                        "labelFont": "Helvetica Neue",
                        "labelFontSize": 9,
                        "labelFontWeight": 400,
                        "titleFont": "Helvetica Neue",
                        "titleFontSize": 10,
                        "titleFontWeight": 500
                      },
                      "mark": {
                        "tooltip": {
                          "content": "encoding"
                        }
                      },
                      "title": {
                        "font": "Helvetica Neue",
                        "fontSize": 13,
                        "fontWeight": 500
                      }
                    },
                    "data": {
                      "name": "data-00f2d9c47c756fd2472dd45c6d5a4c99"
                    },
                    "mark": "bar",
                    "encoding": {
                      "x": {
                        "axis": {
                          "title": "Number of Records"
                        },
                        "field": "Record",
                        "title": "Number of Records",
                        "type": "quantitative"
                      },
                      "y": {
                        "axis": {
                          "labelOverlap": true,
                          "title": "Continent"
                        },
                        "field": "Continent",
                        "sort": "-x",
                        "type": "nominal"
                      }
                    },
                    "height": 150,
                    "width": 160,
                    "$schema": "https://vega.github.io/schema/vega-lite/v4.17.0.json",
                    "datasets": {
                      "data-00f2d9c47c756fd2472dd45c6d5a4c99": [
                        {
                          "Continent": "Africa",
                          "Record": 105
                        },
                        {
                          "Continent": "Asia",
                          "Record": 466
                        },
                        {
                          "Continent": "Europe",
                          "Record": 77
                        },
                        {
                          "Continent": "North America",
                          "Record": 64
                        },
                        {
                          "Continent": "Oceania",
                          "Record": 6
                        },
                        {
                          "Continent": "South America",
                          "Record": 60
                        }
                      ]
                    },
                    "vislib": "vegalite"
                  },
                  {
                    "config": {
                      "view": {
                        "continuousWidth": 400,
                        "continuousHeight": 300
                      },
                      "axis": {
                        "labelColor": "#505050",
                        "labelFont": "Helvetica Neue",
                        "labelFontSize": 9,
                        "labelFontWeight": 400,
                        "titleFont": "Helvetica Neue",
                        "titleFontSize": 11,
                        "titleFontWeight": 500
                      },
                      "legend": {
                        "labelFont": "Helvetica Neue",
                        "labelFontSize": 9,
                        "labelFontWeight": 400,
                        "titleFont": "Helvetica Neue",
                        "titleFontSize": 10,
                        "titleFontWeight": 500
                      },
                      "mark": {
                        "tooltip": {
                          "content": "encoding"
                        }
                      },
                      "title": {
                        "font": "Helvetica Neue",
                        "fontSize": 13,
                        "fontWeight": 500
                      }
                    },
                    "layer": [
                      {
                        "data": {
                          "name": "data-0c72c414ee9c23bbcb7db7ed788cc259"
                        },
                        "mark": "bar",
                        "encoding": {
                          "x": {
                            "axis": {
                              "title": "Number of Records"
                            },
                            "field": "Record",
                            "title": "Number of Records",
                            "type": "quantitative"
                          },
                          "y": {
                            "axis": {
                              "labelOverlap": true,
                              "title": "Unnamed: 7"
                            },
                            "field": "Unnamed: 7",
                            "sort": "-x",
                            "type": "nominal"
                          }
                        }
                      },
                      {
                        "data": {
                          "name": "data-0c72c414ee9c23bbcb7db7ed788cc259"
                        },
                        "mark": {
                          "type": "text",
                          "align": "right",
                          "color": "#ff8e04",
                          "fontSize": 11,
                          "text": "+ 3 more ...",
                          "x": 155,
                          "y": 142
                        }
                      }
                    ],
                    "height": 150,
                    "width": 160,
                    "$schema": "https://vega.github.io/schema/vega-lite/v4.17.0.json",
                    "datasets": {
                      "data-0c72c414ee9c23bbcb7db7ed788cc259": [
                        {
                          "Unnamed: 7": null,
                          "Record": 766
                        },
                        {
                          "Unnamed: 7": 227,
                          "Record": 1
                        },
                        {
                          "Unnamed: 7": 351,
                          "Record": 1
                        },
                        {
                          "Unnamed: 7": 361,
                          "Record": 1
                        },
                        {
                          "Unnamed: 7": 395,
                          "Record": 1
                        },
                        {
                          "Unnamed: 7": 441,
                          "Record": 1
                        },
                        {
                          "Unnamed: 7": 601,
                          "Record": 1
                        },
                        {
                          "Unnamed: 7": 605,
                          "Record": 1
                        },
                        {
                          "Unnamed: 7": 607,
                          "Record": 1
                        },
                        {
                          "Unnamed: 7": 636,
                          "Record": 1
                        }
                      ]
                    },
                    "vislib": "vegalite"
                  }
                ]
              },
              {
                "action": "Geographical",
                "description": "Show choropleth maps of <p class='highlight-descriptor'>geographic</p> attributes",
                "long_description": "Occurence displays choropleths of averages for some geographic attribute (e.g., Country). Visualizations are ranked by diversity of the geographic attribute.",
                "vspec": [
                  {
                    "config": {
                      "view": {
                        "continuousWidth": 400,
                        "continuousHeight": 300
                      },
                      "axis": {
                        "labelColor": "#505050",
                        "labelFont": "Helvetica Neue",
                        "labelFontSize": 9,
                        "labelFontWeight": 400,
                        "titleFont": "Helvetica Neue",
                        "titleFontSize": 11,
                        "titleFontWeight": 500
                      },
                      "legend": {
                        "labelFont": "Helvetica Neue",
                        "labelFontSize": 9,
                        "labelFontWeight": 400,
                        "titleFont": "Helvetica Neue",
                        "titleFontSize": 10,
                        "titleFontWeight": 500
                      },
                      "mark": {
                        "tooltip": {
                          "content": "encoding"
                        }
                      },
                      "title": {
                        "font": "Helvetica Neue",
                        "fontSize": 13,
                        "fontWeight": 500
                      }
                    },
                    "layer": [
                      {
                        "data": {
                          "url": "https://cdn.jsdelivr.net/npm/vega-datasets@v1.29.0/data/world-110m.json",
                          "format": {
                            "feature": "countries",
                            "type": "topojson"
                          }
                        },
                        "mark": {
                          "type": "geoshape",
                          "fill": "lightgray",
                          "stroke": "white"
                        },
                        "projection": {
                          "type": "equirectangular"
                        }
                      },
                      {
                        "data": {
                          "url": "https://cdn.jsdelivr.net/npm/vega-datasets@v1.29.0/data/world-110m.json",
                          "format": {
                            "feature": "countries",
                            "type": "topojson"
                          }
                        },
                        "mark": "geoshape",
                        "encoding": {
                          "color": {
                            "field": "growthRate",
                            "type": "quantitative"
                          }
                        },
                        "projection": {
                          "type": "equirectangular"
                        },
                        "title": "Mean of growthRate across World",
                        "transform": [
                          {
                            "lookup": "id",
                            "from": {
                              "data": {
                                "name": "data-f181f8f44a60c7bab5e73621d9953844"
                              },
                              "key": "Country",
                              "fields": [
                                "growthRate"
                              ]
                            }
                          }
                        ]
                      }
                    ],
                    "height": 150,
                    "width": 200,
                    "$schema": "https://vega.github.io/schema/vega-lite/v4.17.0.json",
                    "datasets": {
                      "data-f181f8f44a60c7bab5e73621d9953844": [
                        {
                          "Country": 4,
                          "growthRate": 0.0293
                        },
                        {
                          "Country": 12,
                          "growthRate": 0.0158
                        },
                        {
                          "Country": 24,
                          "growthRate": 0.046200000000000005
                        },
                        {
                          "Country": 32,
                          "growthRate": 0.011133333333333334
                        },
                        {
                          "Country": 51,
                          "growthRate": 0.0026
                        },
                        {
                          "Country": 36,
                          "growthRate": 0.01252
                        },
                        {
                          "Country": 40,
                          "growthRate": 0.0078
                        },
                        {
                          "Country": 31,
                          "growthRate": 0.013
                        },
                        {
                          "Country": 50,
                          "growthRate": 0.028483333333333333
                        },
                        {
                          "Country": 112,
                          "growthRate": 0.0042
                        },
                        {
                          "Country": 56,
                          "growthRate": 0.00515
                        },
                        {
                          "Country": 204,
                          "growthRate": 0.054
                        },
                        {
                          "Country": "Bolivia",
                          "growthRate": 0.01916666666666667
                        },
                        {
                          "Country": 76,
                          "growthRate": 0.011007692307692309
                        },
                        {
                          "Country": 100,
                          "growthRate": 0.001
                        },
                        {
                          "Country": 854,
                          "growthRate": 0.04955
                        },
                        {
                          "Country": 108,
                          "growthRate": 0.0593
                        },
                        {
                          "Country": 116,
                          "growthRate": 0.0315
                        },
                        {
                          "Country": 120,
                          "growthRate": 0.0373
                        },
                        {
                          "Country": 124,
                          "growthRate": 0.010566666666666667
                        },
                        {
                          "Country": 140,
                          "growthRate": 0.027
                        },
                        {
                          "Country": 148,
                          "growthRate": 0.039
                        },
                        {
                          "Country": 152,
                          "growthRate": 0.008566666666666667
                        },
                        {
                          "Country": 156,
                          "growthRate": 0.026244292237442922
                        },
                        {
                          "Country": 170,
                          "growthRate": 0.010400000000000001
                        },
                        {
                          "Country": 188,
                          "growthRate": 0.0143
                        },
                        {
                          "Country": 192,
                          "growthRate": 0.0015
                        },
                        {
                          "Country": "Czech Republic",
                          "growthRate": 0.004
                        },
                        {
                          "Country": "DR Congo",
                          "growthRate": 0.0473875
                        },
                        {
                          "Country": 208,
                          "growthRate": 0.0079
                        },
                        {
                          "Country": 214,
                          "growthRate": 0.0192
                        },
                        {
                          "Country": 218,
                          "growthRate": 0.01555
                        },
                        {
                          "Country": 818,
                          "growthRate": 0.019166666666666665
                        },
                        {
                          "Country": 222,
                          "growthRate": 0.0048
                        },
                        {
                          "Country": 232,
                          "growthRate": 0.0365
                        },
                        {
                          "Country": 231,
                          "growthRate": 0.0445
                        },
                        {
                          "Country": 246,
                          "growthRate": 0.0075
                        },
                        {
                          "Country": 250,
                          "growthRate": 0.006728571428571428
                        },
                        {
                          "Country": 266,
                          "growthRate": 0.0151
                        },
                        {
                          "Country": 268,
                          "growthRate": 0.0018
                        },
                        {
                          "Country": 276,
                          "growthRate": 0.00392
                        },
                        {
                          "Country": 288,
                          "growthRate": 0.03353333333333333
                        },
                        {
                          "Country": 300,
                          "growthRate": 0.00055
                        },
                        {
                          "Country": 320,
                          "growthRate": 0.0193
                        },
                        {
                          "Country": 324,
                          "growthRate": 0.0305
                        },
                        {
                          "Country": 332,
                          "growthRate": 0.0248
                        },
                        {
                          "Country": 340,
                          "growthRate": 0.02735
                        },
                        {
                          "Country": 344,
                          "growthRate": 0.0054
                        },
                        {
                          "Country": 348,
                          "growthRate": 0.0016
                        },
                        {
                          "Country": 356,
                          "growthRate": 0.025085185185185183
                        },
                        {
                          "Country": 360,
                          "growthRate": 0.02231
                        },
                        {
                          "Country": "Iran",
                          "growthRate": 0.01345
                        },
                        {
                          "Country": 368,
                          "growthRate": 0.026357142857142857
                        },
                        {
                          "Country": 372,
                          "growthRate": 0.0113
                        },
                        {
                          "Country": 376,
                          "growthRate": 0.013433333333333334
                        },
                        {
                          "Country": 380,
                          "growthRate": 0.0024714285714285715
                        },
                        {
                          "Country": "Ivory Coast",
                          "growthRate": 0.0309
                        },
                        {
                          "Country": 392,
                          "growthRate": -0.0012333333333333335
                        },
                        {
                          "Country": 400,
                          "growthRate": 0.0103
                        },
                        {
                          "Country": 398,
                          "growthRate": 0.0236
                        },
                        {
                          "Country": 404,
                          "growthRate": 0.038650000000000004
                        },
                        {
                          "Country": 414,
                          "growthRate": 0.0183
                        },
                        {
                          "Country": 417,
                          "growthRate": 0.0208
                        },
                        {
                          "Country": 422,
                          "growthRate": -0.0049
                        },
                        {
                          "Country": 430,
                          "growthRate": 0.0342
                        },
                        {
                          "Country": 434,
                          "growthRate": 0.017333333333333333
                        },
                        {
                          "Country": 450,
                          "growthRate": 0.0466
                        },
                        {
                          "Country": 454,
                          "growthRate": 0.0402
                        },
                        {
                          "Country": 458,
                          "growthRate": 0.020433333333333335
                        },
                        {
                          "Country": 466,
                          "growthRate": 0.0399
                        },
                        {
                          "Country": 478,
                          "growthRate": 0.0422
                        },
                        {
                          "Country": 484,
                          "growthRate": 0.016485714285714288
                        },
                        {
                          "Country": 496,
                          "growthRate": 0.0171
                        },
                        {
                          "Country": 504,
                          "growthRate": 0.0184
                        },
                        {
                          "Country": 508,
                          "growthRate": 0.0323
                        },
                        {
                          "Country": 104,
                          "growthRate": 0.0191
                        },
                        {
                          "Country": 524,
                          "growthRate": 0.0328
                        },
                        {
                          "Country": 528,
                          "growthRate": 0.00515
                        },
                        {
                          "Country": 554,
                          "growthRate": 0.0126
                        },
                        {
                          "Country": 558,
                          "growthRate": 0.0105
                        },
                        {
                          "Country": 562,
                          "growthRate": 0.0385
                        },
                        {
                          "Country": 566,
                          "growthRate": 0.03909090909090909
                        },
                        {
                          "Country": "North Korea",
                          "growthRate": 0.008
                        },
                        {
                          "Country": 578,
                          "growthRate": 0.0139
                        },
                        {
                          "Country": 512,
                          "growthRate": 0.0171
                        },
                        {
                          "Country": 586,
                          "growthRate": 0.025683333333333336
                        },
                        {
                          "Country": 275,
                          "growthRate": 0.0292
                        },
                        {
                          "Country": 591,
                          "growthRate": 0.0201
                        },
                        {
                          "Country": 600,
                          "growthRate": 0.0169
                        },
                        {
                          "Country": 604,
                          "growthRate": 0.013933333333333334
                        },
                        {
                          "Country": 608,
                          "growthRate": 0.020114285714285716
                        },
                        {
                          "Country": 616,
                          "growthRate": 0.0007499999999999999
                        },
                        {
                          "Country": 620,
                          "growthRate": 0.00405
                        },
                        {
                          "Country": 630,
                          "growthRate": -0.0012
                        },
                        {
                          "Country": 634,
                          "growthRate": 0.0244
                        },
                        {
                          "Country": "Republic of the Congo",
                          "growthRate": 0.0328
                        },
                        {
                          "Country": 642,
                          "growthRate": -0.005
                        },
                        {
                          "Country": "Russia",
                          "growthRate": 0.003566666666666667
                        },
                        {
                          "Country": 646,
                          "growthRate": 0.0325
                        },
                        {
                          "Country": 682,
                          "growthRate": 0.017249999999999998
                        },
                        {
                          "Country": 686,
                          "growthRate": 0.0311
                        },
                        {
                          "Country": 688,
                          "growthRate": 0.0021
                        },
                        {
                          "Country": 694,
                          "growthRate": 0.0291
                        },
                        {
                          "Country": 702,
                          "growthRate": 0.0068
                        },
                        {
                          "Country": 706,
                          "growthRate": 0.0447
                        },
                        {
                          "Country": 710,
                          "growthRate": 0.016355555555555554
                        },
                        {
                          "Country": "South Korea",
                          "growthRate": 0.00214
                        },
                        {
                          "Country": 724,
                          "growthRate": 0.0041333333333333335
                        },
                        {
                          "Country": 729,
                          "growthRate": 0.037
                        },
                        {
                          "Country": 752,
                          "growthRate": 0.0125
                        },
                        {
                          "Country": 756,
                          "growthRate": 0.0084
                        },
                        {
                          "Country": "Syria",
                          "growthRate": 0.0371
                        },
                        {
                          "Country": 158,
                          "growthRate": 0.007233333333333334
                        },
                        {
                          "Country": 762,
                          "growthRate": 0.0257
                        },
                        {
                          "Country": "Tanzania",
                          "growthRate": 0.0488
                        },
                        {
                          "Country": 764,
                          "growthRate": 0.0131125
                        },
                        {
                          "Country": 768,
                          "growthRate": 0.0291
                        },
                        {
                          "Country": 788,
                          "growthRate": 0.0148
                        },
                        {
                          "Country": "Turkey",
                          "growthRate": 0.016546153846153846
                        },
                        {
                          "Country": 795,
                          "growthRate": 0.0215
                        },
                        {
                          "Country": 800,
                          "growthRate": 0.0532
                        },
                        {
                          "Country": 804,
                          "growthRate": -0.00228
                        },
                        {
                          "Country": 784,
                          "growthRate": 0.01916666666666667
                        },
                        {
                          "Country": "United Kingdom",
                          "growthRate": 0.0074333333333333335
                        },
                        {
                          "Country": "United States",
                          "growthRate": -0.00484
                        },
                        {
                          "Country": 858,
                          "growthRate": 0.004
                        },
                        {
                          "Country": 860,
                          "growthRate": 0.0115
                        },
                        {
                          "Country": "Venezuela",
                          "growthRate": 0.0135625
                        },
                        {
                          "Country": "Vietnam",
                          "growthRate": 0.032400000000000005
                        },
                        {
                          "Country": 887,
                          "growthRate": 0.03975
                        },
                        {
                          "Country": 894,
                          "growthRate": 0.0416
                        },
                        {
                          "Country": 716,
                          "growthRate": 0.0131
                        }
                      ]
                    },
                    "vislib": "vegalite"
                  }
                ]
              }
            ],
            "selectedIntentIndex": {}
          }
        },
        "f27085b0f585410f8915600a2249a8ac": {
          "model_module": "@jupyter-widgets/controls",
          "model_name": "ButtonModel",
          "model_module_version": "1.5.0",
          "state": {
            "_dom_classes": [],
            "_model_module": "@jupyter-widgets/controls",
            "_model_module_version": "1.5.0",
            "_model_name": "ButtonModel",
            "_view_count": null,
            "_view_module": "@jupyter-widgets/controls",
            "_view_module_version": "1.5.0",
            "_view_name": "ButtonView",
            "button_style": "",
            "description": "Toggle Pandas/Lux",
            "disabled": false,
            "icon": "",
            "layout": "IPY_MODEL_f31ac79f6741470ab7d30abbb1ade853",
            "style": "IPY_MODEL_55e5267b0b00458fb78fa4ecb7fc8559",
            "tooltip": ""
          }
        },
        "f31ac79f6741470ab7d30abbb1ade853": {
          "model_module": "@jupyter-widgets/base",
          "model_name": "LayoutModel",
          "model_module_version": "1.2.0",
          "state": {
            "_model_module": "@jupyter-widgets/base",
            "_model_module_version": "1.2.0",
            "_model_name": "LayoutModel",
            "_view_count": null,
            "_view_module": "@jupyter-widgets/base",
            "_view_module_version": "1.2.0",
            "_view_name": "LayoutView",
            "align_content": null,
            "align_items": null,
            "align_self": null,
            "border": null,
            "bottom": null,
            "display": null,
            "flex": null,
            "flex_flow": null,
            "grid_area": null,
            "grid_auto_columns": null,
            "grid_auto_flow": null,
            "grid_auto_rows": null,
            "grid_column": null,
            "grid_gap": null,
            "grid_row": null,
            "grid_template_areas": null,
            "grid_template_columns": null,
            "grid_template_rows": null,
            "height": null,
            "justify_content": null,
            "justify_items": null,
            "left": null,
            "margin": null,
            "max_height": null,
            "max_width": null,
            "min_height": null,
            "min_width": null,
            "object_fit": null,
            "object_position": null,
            "order": null,
            "overflow": null,
            "overflow_x": null,
            "overflow_y": null,
            "padding": null,
            "right": null,
            "top": "5px",
            "visibility": null,
            "width": "140px"
          }
        },
        "55e5267b0b00458fb78fa4ecb7fc8559": {
          "model_module": "@jupyter-widgets/controls",
          "model_name": "ButtonStyleModel",
          "model_module_version": "1.5.0",
          "state": {
            "_model_module": "@jupyter-widgets/controls",
            "_model_module_version": "1.5.0",
            "_model_name": "ButtonStyleModel",
            "_view_count": null,
            "_view_module": "@jupyter-widgets/base",
            "_view_module_version": "1.2.0",
            "_view_name": "StyleView",
            "button_color": null,
            "font_weight": ""
          }
        },
        "d4a84a5323c5413a8308b8feb116640c": {
          "model_module": "@jupyter-widgets/output",
          "model_name": "OutputModel",
          "model_module_version": "1.0.0",
          "state": {
            "_dom_classes": [],
            "_model_module": "@jupyter-widgets/output",
            "_model_module_version": "1.0.0",
            "_model_name": "OutputModel",
            "_view_count": null,
            "_view_module": "@jupyter-widgets/output",
            "_view_module_version": "1.0.0",
            "_view_name": "OutputView",
            "layout": "IPY_MODEL_a9f841b9a6464d4c89a15ee1039b9619",
            "msg_id": "",
            "outputs": [
              {
                "output_type": "display_data",
                "data": {
                  "text/plain": "      Pop2023   Pop2022             City     Country      Continent  \\\n0    37194104  37274000            Tokyo       Japan           Asia   \n1    32941308  32065760            Delhi       India           Asia   \n2    29210808  28516904         Shanghai       China           Asia   \n3    23209616  22478116            Dhaka  Bangladesh           Asia   \n4    22619736  22429800        Sao Paulo      Brazil  South America   \n..        ...       ...              ...         ...            ...   \n773    752916    734805         Tongling       China           Asia   \n774    752744    729109         Tirupati       India           Asia   \n775    751679    733917           Wuzhou       China           Asia   \n776    750102    723114             Yuxi       China           Asia   \n777    750097    733643  Suining Sichuan       China           Asia   \n\n     growthRate  rank  \n0       -0.0021     1  \n1        0.0273     2  \n2        0.0243     3  \n3        0.0325     4  \n4        0.0085     5  \n..          ...   ...  \n773      0.0246   774  \n774      0.0324   775  \n775      0.0242   776  \n776      0.0373   777  \n777      0.0224   778  \n\n[778 rows x 7 columns]",
                  "text/html": "\n  <div id=\"df-1626e8e7-5505-495b-8c41-3804d8835ec9\">\n    <div class=\"colab-df-container\">\n      <div>\n<style scoped>\n    .dataframe tbody tr th:only-of-type {\n        vertical-align: middle;\n    }\n\n    .dataframe tbody tr th {\n        vertical-align: top;\n    }\n\n    .dataframe thead th {\n        text-align: right;\n    }\n</style>\n<table border=\"1\" class=\"dataframe\">\n  <thead>\n    <tr style=\"text-align: right;\">\n      <th></th>\n      <th>Pop2023</th>\n      <th>Pop2022</th>\n      <th>City</th>\n      <th>Country</th>\n      <th>Continent</th>\n      <th>growthRate</th>\n      <th>rank</th>\n    </tr>\n  </thead>\n  <tbody>\n    <tr>\n      <th>0</th>\n      <td>37194104</td>\n      <td>37274000</td>\n      <td>Tokyo</td>\n      <td>Japan</td>\n      <td>Asia</td>\n      <td>-0.0021</td>\n      <td>1</td>\n    </tr>\n    <tr>\n      <th>1</th>\n      <td>32941308</td>\n      <td>32065760</td>\n      <td>Delhi</td>\n      <td>India</td>\n      <td>Asia</td>\n      <td>0.0273</td>\n      <td>2</td>\n    </tr>\n    <tr>\n      <th>2</th>\n      <td>29210808</td>\n      <td>28516904</td>\n      <td>Shanghai</td>\n      <td>China</td>\n      <td>Asia</td>\n      <td>0.0243</td>\n      <td>3</td>\n    </tr>\n    <tr>\n      <th>3</th>\n      <td>23209616</td>\n      <td>22478116</td>\n      <td>Dhaka</td>\n      <td>Bangladesh</td>\n      <td>Asia</td>\n      <td>0.0325</td>\n      <td>4</td>\n    </tr>\n    <tr>\n      <th>4</th>\n      <td>22619736</td>\n      <td>22429800</td>\n      <td>Sao Paulo</td>\n      <td>Brazil</td>\n      <td>South America</td>\n      <td>0.0085</td>\n      <td>5</td>\n    </tr>\n    <tr>\n      <th>...</th>\n      <td>...</td>\n      <td>...</td>\n      <td>...</td>\n      <td>...</td>\n      <td>...</td>\n      <td>...</td>\n      <td>...</td>\n    </tr>\n    <tr>\n      <th>773</th>\n      <td>752916</td>\n      <td>734805</td>\n      <td>Tongling</td>\n      <td>China</td>\n      <td>Asia</td>\n      <td>0.0246</td>\n      <td>774</td>\n    </tr>\n    <tr>\n      <th>774</th>\n      <td>752744</td>\n      <td>729109</td>\n      <td>Tirupati</td>\n      <td>India</td>\n      <td>Asia</td>\n      <td>0.0324</td>\n      <td>775</td>\n    </tr>\n    <tr>\n      <th>775</th>\n      <td>751679</td>\n      <td>733917</td>\n      <td>Wuzhou</td>\n      <td>China</td>\n      <td>Asia</td>\n      <td>0.0242</td>\n      <td>776</td>\n    </tr>\n    <tr>\n      <th>776</th>\n      <td>750102</td>\n      <td>723114</td>\n      <td>Yuxi</td>\n      <td>China</td>\n      <td>Asia</td>\n      <td>0.0373</td>\n      <td>777</td>\n    </tr>\n    <tr>\n      <th>777</th>\n      <td>750097</td>\n      <td>733643</td>\n      <td>Suining Sichuan</td>\n      <td>China</td>\n      <td>Asia</td>\n      <td>0.0224</td>\n      <td>778</td>\n    </tr>\n  </tbody>\n</table>\n<p>778 rows × 7 columns</p>\n</div>\n      <button class=\"colab-df-convert\" onclick=\"convertToInteractive('df-1626e8e7-5505-495b-8c41-3804d8835ec9')\"\n              title=\"Convert this dataframe to an interactive table.\"\n              style=\"display:none;\">\n        \n  <svg xmlns=\"http://www.w3.org/2000/svg\" height=\"24px\"viewBox=\"0 0 24 24\"\n       width=\"24px\">\n    <path d=\"M0 0h24v24H0V0z\" fill=\"none\"/>\n    <path d=\"M18.56 5.44l.94 2.06.94-2.06 2.06-.94-2.06-.94-.94-2.06-.94 2.06-2.06.94zm-11 1L8.5 8.5l.94-2.06 2.06-.94-2.06-.94L8.5 2.5l-.94 2.06-2.06.94zm10 10l.94 2.06.94-2.06 2.06-.94-2.06-.94-.94-2.06-.94 2.06-2.06.94z\"/><path d=\"M17.41 7.96l-1.37-1.37c-.4-.4-.92-.59-1.43-.59-.52 0-1.04.2-1.43.59L10.3 9.45l-7.72 7.72c-.78.78-.78 2.05 0 2.83L4 21.41c.39.39.9.59 1.41.59.51 0 1.02-.2 1.41-.59l7.78-7.78 2.81-2.81c.8-.78.8-2.07 0-2.86zM5.41 20L4 18.59l7.72-7.72 1.47 1.35L5.41 20z\"/>\n  </svg>\n      </button>\n      \n  <style>\n    .colab-df-container {\n      display:flex;\n      flex-wrap:wrap;\n      gap: 12px;\n    }\n\n    .colab-df-convert {\n      background-color: #E8F0FE;\n      border: none;\n      border-radius: 50%;\n      cursor: pointer;\n      display: none;\n      fill: #1967D2;\n      height: 32px;\n      padding: 0 0 0 0;\n      width: 32px;\n    }\n\n    .colab-df-convert:hover {\n      background-color: #E2EBFA;\n      box-shadow: 0px 1px 2px rgba(60, 64, 67, 0.3), 0px 1px 3px 1px rgba(60, 64, 67, 0.15);\n      fill: #174EA6;\n    }\n\n    [theme=dark] .colab-df-convert {\n      background-color: #3B4455;\n      fill: #D2E3FC;\n    }\n\n    [theme=dark] .colab-df-convert:hover {\n      background-color: #434B5C;\n      box-shadow: 0px 1px 3px 1px rgba(0, 0, 0, 0.15);\n      filter: drop-shadow(0px 1px 2px rgba(0, 0, 0, 0.3));\n      fill: #FFFFFF;\n    }\n  </style>\n\n      <script>\n        const buttonEl =\n          document.querySelector('#df-1626e8e7-5505-495b-8c41-3804d8835ec9 button.colab-df-convert');\n        buttonEl.style.display =\n          google.colab.kernel.accessAllowed ? 'block' : 'none';\n\n        async function convertToInteractive(key) {\n          const element = document.querySelector('#df-1626e8e7-5505-495b-8c41-3804d8835ec9');\n          const dataTable =\n            await google.colab.kernel.invokeFunction('convertToInteractive',\n                                                     [key], {});\n          if (!dataTable) return;\n\n          const docLinkHtml = 'Like what you see? Visit the ' +\n            '<a target=\"_blank\" href=https://colab.research.google.com/notebooks/data_table.ipynb>data table notebook</a>'\n            + ' to learn more about interactive tables.';\n          element.innerHTML = '';\n          dataTable['output_type'] = 'display_data';\n          await google.colab.output.renderOutput(dataTable, element);\n          const docLink = document.createElement('div');\n          docLink.innerHTML = docLinkHtml;\n          element.appendChild(docLink);\n        }\n      </script>\n    </div>\n  </div>\n  "
                },
                "metadata": {}
              }
            ]
          }
        },
        "a9f841b9a6464d4c89a15ee1039b9619": {
          "model_module": "@jupyter-widgets/base",
          "model_name": "LayoutModel",
          "model_module_version": "1.2.0",
          "state": {
            "_model_module": "@jupyter-widgets/base",
            "_model_module_version": "1.2.0",
            "_model_name": "LayoutModel",
            "_view_count": null,
            "_view_module": "@jupyter-widgets/base",
            "_view_module_version": "1.2.0",
            "_view_name": "LayoutView",
            "align_content": null,
            "align_items": null,
            "align_self": null,
            "border": null,
            "bottom": null,
            "display": null,
            "flex": null,
            "flex_flow": null,
            "grid_area": null,
            "grid_auto_columns": null,
            "grid_auto_flow": null,
            "grid_auto_rows": null,
            "grid_column": null,
            "grid_gap": null,
            "grid_row": null,
            "grid_template_areas": null,
            "grid_template_columns": null,
            "grid_template_rows": null,
            "height": null,
            "justify_content": null,
            "justify_items": null,
            "left": null,
            "margin": null,
            "max_height": null,
            "max_width": null,
            "min_height": null,
            "min_width": null,
            "object_fit": null,
            "object_position": null,
            "order": null,
            "overflow": null,
            "overflow_x": null,
            "overflow_y": null,
            "padding": null,
            "right": null,
            "top": null,
            "visibility": null,
            "width": null
          }
        }
      }
    }
  },
  "cells": [
    {
      "cell_type": "code",
      "execution_count": null,
      "metadata": {
        "colab": {
          "base_uri": "https://localhost:8080/"
        },
        "id": "wSSUQD2_FFdm",
        "outputId": "44983afd-4928-478e-c412-471af8081899"
      },
      "outputs": [
        {
          "output_type": "stream",
          "name": "stdout",
          "text": [
            "Collecting lux-api\n",
            "  Downloading lux-api-0.5.1.tar.gz (127 kB)\n",
            "\u001b[?25l     \u001b[90m━━━━━━━━━━━━━━━━━━━━━━━━━━━━━━━━━━━━━━━━\u001b[0m \u001b[32m0.0/127.0 kB\u001b[0m \u001b[31m?\u001b[0m eta \u001b[36m-:--:--\u001b[0m\r\u001b[2K     \u001b[90m━━━━━━━━━━━━━━━━━━━━━━━━━━━━━━━━━━━━━━━\u001b[0m \u001b[32m127.0/127.0 kB\u001b[0m \u001b[31m4.4 MB/s\u001b[0m eta \u001b[36m0:00:00\u001b[0m\n",
            "\u001b[?25h  Installing build dependencies ... \u001b[?25l\u001b[?25hdone\n",
            "  Getting requirements to build wheel ... \u001b[?25l\u001b[?25hdone\n",
            "  Preparing metadata (pyproject.toml) ... \u001b[?25l\u001b[?25hdone\n",
            "Requirement already satisfied: scipy>=1.3.3 in /usr/local/lib/python3.10/dist-packages (from lux-api) (1.10.1)\n",
            "Requirement already satisfied: altair>=4.0.0 in /usr/local/lib/python3.10/dist-packages (from lux-api) (4.2.2)\n",
            "Requirement already satisfied: numpy>=1.16.5 in /usr/local/lib/python3.10/dist-packages (from lux-api) (1.22.4)\n",
            "Requirement already satisfied: pandas in /usr/local/lib/python3.10/dist-packages (from lux-api) (1.5.3)\n",
            "Requirement already satisfied: scikit-learn>=0.22 in /usr/local/lib/python3.10/dist-packages (from lux-api) (1.2.2)\n",
            "Requirement already satisfied: matplotlib>=3.0.0 in /usr/local/lib/python3.10/dist-packages (from lux-api) (3.7.1)\n",
            "Collecting lux-widget>=0.1.4 (from lux-api)\n",
            "  Downloading lux-widget-0.1.11.tar.gz (2.5 MB)\n",
            "\u001b[2K     \u001b[90m━━━━━━━━━━━━━━━━━━━━━━━━━━━━━━━━━━━━━━━━\u001b[0m \u001b[32m2.5/2.5 MB\u001b[0m \u001b[31m24.3 MB/s\u001b[0m eta \u001b[36m0:00:00\u001b[0m\n",
            "\u001b[?25h  Preparing metadata (setup.py) ... \u001b[?25l\u001b[?25hdone\n",
            "Collecting autopep8>=1.5 (from lux-api)\n",
            "  Downloading autopep8-2.0.2-py2.py3-none-any.whl (45 kB)\n",
            "\u001b[2K     \u001b[90m━━━━━━━━━━━━━━━━━━━━━━━━━━━━━━━━━━━━━━━━\u001b[0m \u001b[32m45.2/45.2 kB\u001b[0m \u001b[31m4.9 MB/s\u001b[0m eta \u001b[36m0:00:00\u001b[0m\n",
            "\u001b[?25hCollecting iso3166 (from lux-api)\n",
            "  Downloading iso3166-2.1.1-py3-none-any.whl (9.8 kB)\n",
            "Requirement already satisfied: psutil>=5.9.0 in /usr/local/lib/python3.10/dist-packages (from lux-api) (5.9.5)\n",
            "Collecting sh (from lux-api)\n",
            "  Downloading sh-2.0.4-py3-none-any.whl (38 kB)\n",
            "Requirement already satisfied: entrypoints in /usr/local/lib/python3.10/dist-packages (from altair>=4.0.0->lux-api) (0.4)\n",
            "Requirement already satisfied: jinja2 in /usr/local/lib/python3.10/dist-packages (from altair>=4.0.0->lux-api) (3.1.2)\n",
            "Requirement already satisfied: jsonschema>=3.0 in /usr/local/lib/python3.10/dist-packages (from altair>=4.0.0->lux-api) (4.3.3)\n",
            "Requirement already satisfied: toolz in /usr/local/lib/python3.10/dist-packages (from altair>=4.0.0->lux-api) (0.12.0)\n",
            "Collecting pycodestyle>=2.10.0 (from autopep8>=1.5->lux-api)\n",
            "  Downloading pycodestyle-2.10.0-py2.py3-none-any.whl (41 kB)\n",
            "\u001b[2K     \u001b[90m━━━━━━━━━━━━━━━━━━━━━━━━━━━━━━━━━━━━━━━━\u001b[0m \u001b[32m41.3/41.3 kB\u001b[0m \u001b[31m3.8 MB/s\u001b[0m eta \u001b[36m0:00:00\u001b[0m\n",
            "\u001b[?25hRequirement already satisfied: tomli in /usr/local/lib/python3.10/dist-packages (from autopep8>=1.5->lux-api) (2.0.1)\n",
            "Requirement already satisfied: notebook>=4.0.0 in /usr/local/lib/python3.10/dist-packages (from lux-widget>=0.1.4->lux-api) (6.4.8)\n",
            "Requirement already satisfied: ipywidgets>=7.5.0 in /usr/local/lib/python3.10/dist-packages (from lux-widget>=0.1.4->lux-api) (7.7.1)\n",
            "Requirement already satisfied: contourpy>=1.0.1 in /usr/local/lib/python3.10/dist-packages (from matplotlib>=3.0.0->lux-api) (1.1.0)\n",
            "Requirement already satisfied: cycler>=0.10 in /usr/local/lib/python3.10/dist-packages (from matplotlib>=3.0.0->lux-api) (0.11.0)\n",
            "Requirement already satisfied: fonttools>=4.22.0 in /usr/local/lib/python3.10/dist-packages (from matplotlib>=3.0.0->lux-api) (4.40.0)\n",
            "Requirement already satisfied: kiwisolver>=1.0.1 in /usr/local/lib/python3.10/dist-packages (from matplotlib>=3.0.0->lux-api) (1.4.4)\n",
            "Requirement already satisfied: packaging>=20.0 in /usr/local/lib/python3.10/dist-packages (from matplotlib>=3.0.0->lux-api) (23.1)\n",
            "Requirement already satisfied: pillow>=6.2.0 in /usr/local/lib/python3.10/dist-packages (from matplotlib>=3.0.0->lux-api) (8.4.0)\n",
            "Requirement already satisfied: pyparsing>=2.3.1 in /usr/local/lib/python3.10/dist-packages (from matplotlib>=3.0.0->lux-api) (3.1.0)\n",
            "Requirement already satisfied: python-dateutil>=2.7 in /usr/local/lib/python3.10/dist-packages (from matplotlib>=3.0.0->lux-api) (2.8.2)\n",
            "Requirement already satisfied: pytz>=2020.1 in /usr/local/lib/python3.10/dist-packages (from pandas->lux-api) (2022.7.1)\n",
            "Requirement already satisfied: joblib>=1.1.1 in /usr/local/lib/python3.10/dist-packages (from scikit-learn>=0.22->lux-api) (1.2.0)\n",
            "Requirement already satisfied: threadpoolctl>=2.0.0 in /usr/local/lib/python3.10/dist-packages (from scikit-learn>=0.22->lux-api) (3.1.0)\n",
            "Requirement already satisfied: ipykernel>=4.5.1 in /usr/local/lib/python3.10/dist-packages (from ipywidgets>=7.5.0->lux-widget>=0.1.4->lux-api) (5.5.6)\n",
            "Requirement already satisfied: ipython-genutils~=0.2.0 in /usr/local/lib/python3.10/dist-packages (from ipywidgets>=7.5.0->lux-widget>=0.1.4->lux-api) (0.2.0)\n",
            "Requirement already satisfied: traitlets>=4.3.1 in /usr/local/lib/python3.10/dist-packages (from ipywidgets>=7.5.0->lux-widget>=0.1.4->lux-api) (5.7.1)\n",
            "Requirement already satisfied: widgetsnbextension~=3.6.0 in /usr/local/lib/python3.10/dist-packages (from ipywidgets>=7.5.0->lux-widget>=0.1.4->lux-api) (3.6.4)\n",
            "Requirement already satisfied: ipython>=4.0.0 in /usr/local/lib/python3.10/dist-packages (from ipywidgets>=7.5.0->lux-widget>=0.1.4->lux-api) (7.34.0)\n",
            "Requirement already satisfied: jupyterlab-widgets>=1.0.0 in /usr/local/lib/python3.10/dist-packages (from ipywidgets>=7.5.0->lux-widget>=0.1.4->lux-api) (3.0.7)\n",
            "Requirement already satisfied: attrs>=17.4.0 in /usr/local/lib/python3.10/dist-packages (from jsonschema>=3.0->altair>=4.0.0->lux-api) (23.1.0)\n",
            "Requirement already satisfied: pyrsistent!=0.17.0,!=0.17.1,!=0.17.2,>=0.14.0 in /usr/local/lib/python3.10/dist-packages (from jsonschema>=3.0->altair>=4.0.0->lux-api) (0.19.3)\n",
            "Requirement already satisfied: tornado>=6.1 in /usr/local/lib/python3.10/dist-packages (from notebook>=4.0.0->lux-widget>=0.1.4->lux-api) (6.3.1)\n",
            "Requirement already satisfied: pyzmq>=17 in /usr/local/lib/python3.10/dist-packages (from notebook>=4.0.0->lux-widget>=0.1.4->lux-api) (23.2.1)\n",
            "Requirement already satisfied: argon2-cffi in /usr/local/lib/python3.10/dist-packages (from notebook>=4.0.0->lux-widget>=0.1.4->lux-api) (21.3.0)\n",
            "Requirement already satisfied: jupyter-core>=4.6.1 in /usr/local/lib/python3.10/dist-packages (from notebook>=4.0.0->lux-widget>=0.1.4->lux-api) (5.3.1)\n",
            "Requirement already satisfied: jupyter-client>=5.3.4 in /usr/local/lib/python3.10/dist-packages (from notebook>=4.0.0->lux-widget>=0.1.4->lux-api) (6.1.12)\n",
            "Requirement already satisfied: nbformat in /usr/local/lib/python3.10/dist-packages (from notebook>=4.0.0->lux-widget>=0.1.4->lux-api) (5.9.0)\n",
            "Requirement already satisfied: nbconvert in /usr/local/lib/python3.10/dist-packages (from notebook>=4.0.0->lux-widget>=0.1.4->lux-api) (6.5.4)\n",
            "Requirement already satisfied: nest-asyncio>=1.5 in /usr/local/lib/python3.10/dist-packages (from notebook>=4.0.0->lux-widget>=0.1.4->lux-api) (1.5.6)\n",
            "Requirement already satisfied: Send2Trash>=1.8.0 in /usr/local/lib/python3.10/dist-packages (from notebook>=4.0.0->lux-widget>=0.1.4->lux-api) (1.8.2)\n",
            "Requirement already satisfied: terminado>=0.8.3 in /usr/local/lib/python3.10/dist-packages (from notebook>=4.0.0->lux-widget>=0.1.4->lux-api) (0.17.1)\n",
            "Requirement already satisfied: prometheus-client in /usr/local/lib/python3.10/dist-packages (from notebook>=4.0.0->lux-widget>=0.1.4->lux-api) (0.17.0)\n",
            "Requirement already satisfied: six>=1.5 in /usr/local/lib/python3.10/dist-packages (from python-dateutil>=2.7->matplotlib>=3.0.0->lux-api) (1.16.0)\n",
            "Requirement already satisfied: MarkupSafe>=2.0 in /usr/local/lib/python3.10/dist-packages (from jinja2->altair>=4.0.0->lux-api) (2.1.3)\n",
            "Requirement already satisfied: setuptools>=18.5 in /usr/local/lib/python3.10/dist-packages (from ipython>=4.0.0->ipywidgets>=7.5.0->lux-widget>=0.1.4->lux-api) (67.7.2)\n",
            "Collecting jedi>=0.16 (from ipython>=4.0.0->ipywidgets>=7.5.0->lux-widget>=0.1.4->lux-api)\n",
            "  Downloading jedi-0.18.2-py2.py3-none-any.whl (1.6 MB)\n",
            "\u001b[2K     \u001b[90m━━━━━━━━━━━━━━━━━━━━━━━━━━━━━━━━━━━━━━━━\u001b[0m \u001b[32m1.6/1.6 MB\u001b[0m \u001b[31m61.7 MB/s\u001b[0m eta \u001b[36m0:00:00\u001b[0m\n",
            "\u001b[?25hRequirement already satisfied: decorator in /usr/local/lib/python3.10/dist-packages (from ipython>=4.0.0->ipywidgets>=7.5.0->lux-widget>=0.1.4->lux-api) (4.4.2)\n",
            "Requirement already satisfied: pickleshare in /usr/local/lib/python3.10/dist-packages (from ipython>=4.0.0->ipywidgets>=7.5.0->lux-widget>=0.1.4->lux-api) (0.7.5)\n",
            "Requirement already satisfied: prompt-toolkit!=3.0.0,!=3.0.1,<3.1.0,>=2.0.0 in /usr/local/lib/python3.10/dist-packages (from ipython>=4.0.0->ipywidgets>=7.5.0->lux-widget>=0.1.4->lux-api) (3.0.38)\n",
            "Requirement already satisfied: pygments in /usr/local/lib/python3.10/dist-packages (from ipython>=4.0.0->ipywidgets>=7.5.0->lux-widget>=0.1.4->lux-api) (2.14.0)\n",
            "Requirement already satisfied: backcall in /usr/local/lib/python3.10/dist-packages (from ipython>=4.0.0->ipywidgets>=7.5.0->lux-widget>=0.1.4->lux-api) (0.2.0)\n",
            "Requirement already satisfied: matplotlib-inline in /usr/local/lib/python3.10/dist-packages (from ipython>=4.0.0->ipywidgets>=7.5.0->lux-widget>=0.1.4->lux-api) (0.1.6)\n",
            "Requirement already satisfied: pexpect>4.3 in /usr/local/lib/python3.10/dist-packages (from ipython>=4.0.0->ipywidgets>=7.5.0->lux-widget>=0.1.4->lux-api) (4.8.0)\n",
            "Requirement already satisfied: platformdirs>=2.5 in /usr/local/lib/python3.10/dist-packages (from jupyter-core>=4.6.1->notebook>=4.0.0->lux-widget>=0.1.4->lux-api) (3.7.0)\n",
            "Requirement already satisfied: ptyprocess in /usr/local/lib/python3.10/dist-packages (from terminado>=0.8.3->notebook>=4.0.0->lux-widget>=0.1.4->lux-api) (0.7.0)\n",
            "Requirement already satisfied: argon2-cffi-bindings in /usr/local/lib/python3.10/dist-packages (from argon2-cffi->notebook>=4.0.0->lux-widget>=0.1.4->lux-api) (21.2.0)\n",
            "Requirement already satisfied: lxml in /usr/local/lib/python3.10/dist-packages (from nbconvert->notebook>=4.0.0->lux-widget>=0.1.4->lux-api) (4.9.2)\n",
            "Requirement already satisfied: beautifulsoup4 in /usr/local/lib/python3.10/dist-packages (from nbconvert->notebook>=4.0.0->lux-widget>=0.1.4->lux-api) (4.11.2)\n",
            "Requirement already satisfied: bleach in /usr/local/lib/python3.10/dist-packages (from nbconvert->notebook>=4.0.0->lux-widget>=0.1.4->lux-api) (6.0.0)\n",
            "Requirement already satisfied: defusedxml in /usr/local/lib/python3.10/dist-packages (from nbconvert->notebook>=4.0.0->lux-widget>=0.1.4->lux-api) (0.7.1)\n",
            "Requirement already satisfied: jupyterlab-pygments in /usr/local/lib/python3.10/dist-packages (from nbconvert->notebook>=4.0.0->lux-widget>=0.1.4->lux-api) (0.2.2)\n",
            "Requirement already satisfied: mistune<2,>=0.8.1 in /usr/local/lib/python3.10/dist-packages (from nbconvert->notebook>=4.0.0->lux-widget>=0.1.4->lux-api) (0.8.4)\n",
            "Requirement already satisfied: nbclient>=0.5.0 in /usr/local/lib/python3.10/dist-packages (from nbconvert->notebook>=4.0.0->lux-widget>=0.1.4->lux-api) (0.8.0)\n",
            "Requirement already satisfied: pandocfilters>=1.4.1 in /usr/local/lib/python3.10/dist-packages (from nbconvert->notebook>=4.0.0->lux-widget>=0.1.4->lux-api) (1.5.0)\n",
            "Requirement already satisfied: tinycss2 in /usr/local/lib/python3.10/dist-packages (from nbconvert->notebook>=4.0.0->lux-widget>=0.1.4->lux-api) (1.2.1)\n",
            "Requirement already satisfied: fastjsonschema in /usr/local/lib/python3.10/dist-packages (from nbformat->notebook>=4.0.0->lux-widget>=0.1.4->lux-api) (2.17.1)\n",
            "Requirement already satisfied: parso<0.9.0,>=0.8.0 in /usr/local/lib/python3.10/dist-packages (from jedi>=0.16->ipython>=4.0.0->ipywidgets>=7.5.0->lux-widget>=0.1.4->lux-api) (0.8.3)\n",
            "Requirement already satisfied: wcwidth in /usr/local/lib/python3.10/dist-packages (from prompt-toolkit!=3.0.0,!=3.0.1,<3.1.0,>=2.0.0->ipython>=4.0.0->ipywidgets>=7.5.0->lux-widget>=0.1.4->lux-api) (0.2.6)\n",
            "Requirement already satisfied: cffi>=1.0.1 in /usr/local/lib/python3.10/dist-packages (from argon2-cffi-bindings->argon2-cffi->notebook>=4.0.0->lux-widget>=0.1.4->lux-api) (1.15.1)\n",
            "Requirement already satisfied: soupsieve>1.2 in /usr/local/lib/python3.10/dist-packages (from beautifulsoup4->nbconvert->notebook>=4.0.0->lux-widget>=0.1.4->lux-api) (2.4.1)\n",
            "Requirement already satisfied: webencodings in /usr/local/lib/python3.10/dist-packages (from bleach->nbconvert->notebook>=4.0.0->lux-widget>=0.1.4->lux-api) (0.5.1)\n",
            "Requirement already satisfied: pycparser in /usr/local/lib/python3.10/dist-packages (from cffi>=1.0.1->argon2-cffi-bindings->argon2-cffi->notebook>=4.0.0->lux-widget>=0.1.4->lux-api) (2.21)\n",
            "Building wheels for collected packages: lux-api, lux-widget\n",
            "  Building wheel for lux-api (pyproject.toml) ... \u001b[?25l\u001b[?25hdone\n",
            "  Created wheel for lux-api: filename=lux_api-0.5.1-py3-none-any.whl size=185610 sha256=3af793449adb6f95d3e82839c8006bcbad100a18cd174736692cdaa6be93b0a1\n",
            "  Stored in directory: /root/.cache/pip/wheels/29/2f/f5/d5fcd3111309d380314ce9ad7ed6eb2fe03b3315123bd0c2e9\n",
            "  Building wheel for lux-widget (setup.py) ... \u001b[?25l\u001b[?25hdone\n",
            "  Created wheel for lux-widget: filename=lux_widget-0.1.11-py3-none-any.whl size=2540457 sha256=088498487e094d7dda2afc125c93b518c84078f374b8a870a27062005c183b06\n",
            "  Stored in directory: /root/.cache/pip/wheels/4d/f6/ce/bbd6194f5f69bc0b86bc7b278c766caf129cce86c016191905\n",
            "Successfully built lux-api lux-widget\n",
            "Installing collected packages: sh, pycodestyle, jedi, iso3166, autopep8, lux-widget, lux-api\n",
            "Successfully installed autopep8-2.0.2 iso3166-2.1.1 jedi-0.18.2 lux-api-0.5.1 lux-widget-0.1.11 pycodestyle-2.10.0 sh-2.0.4\n"
          ]
        }
      ],
      "source": [
        "pip install lux-api --upgrade"
      ]
    },
    {
      "cell_type": "code",
      "source": [
        "import pandas as pd\n",
        "import lux"
      ],
      "metadata": {
        "id": "Ua2l-a9Peb-3"
      },
      "execution_count": null,
      "outputs": []
    },
    {
      "cell_type": "code",
      "source": [
        "lux.logger=True"
      ],
      "metadata": {
        "id": "sfYS1vGcectv"
      },
      "execution_count": null,
      "outputs": []
    },
    {
      "cell_type": "code",
      "source": [
        "\n",
        "# Load the dataset into a pandas DataFrame\n",
        "df = pd.read_csv('/content/World City Populations 2023.csv')\n",
        "\n",
        "df"
      ],
      "metadata": {
        "colab": {
          "base_uri": "https://localhost:8080/",
          "height": 373,
          "referenced_widgets": [
            "770948370fae4e43bca063ff97c439c0",
            "7a1a83e925a94a788a8b24e81791eaa8",
            "f18c8fb087a549bcb7d772dfbef1b973",
            "aaac1a7f4174401a8897e1270b859215",
            "01411d1f65b94374bfceff9720f8f3e1",
            "4445e8109b3b4702b739dc70a4ccc3b3",
            "af9327345387435594fac8b12173945b"
          ]
        },
        "id": "VxiN5yavFIMg",
        "outputId": "da6b5834-f5b5-4b65-869d-35390d9a565c"
      },
      "execution_count": null,
      "outputs": [
        {
          "output_type": "display_data",
          "data": {
            "text/plain": [
              "Button(description='Toggle Pandas/Lux', layout=Layout(top='5px', width='140px'), style=ButtonStyle())"
            ],
            "application/vnd.jupyter.widget-view+json": {
              "version_major": 2,
              "version_minor": 0,
              "model_id": "770948370fae4e43bca063ff97c439c0"
            }
          },
          "metadata": {
            "application/vnd.jupyter.widget-view+json": {
              "colab": {
                "custom_widget_manager": {
                  "url": "https://ssl.gstatic.com/colaboratory-static/widgets/colab-cdn-widget-manager/b3e629b1971e1542/manager.min.js"
                }
              }
            }
          }
        },
        {
          "output_type": "display_data",
          "data": {
            "text/plain": [
              "Output()"
            ],
            "application/vnd.jupyter.widget-view+json": {
              "version_major": 2,
              "version_minor": 0,
              "model_id": "aaac1a7f4174401a8897e1270b859215"
            }
          },
          "metadata": {
            "application/vnd.jupyter.widget-view+json": {
              "colab": {
                "custom_widget_manager": {
                  "url": "https://ssl.gstatic.com/colaboratory-static/widgets/colab-cdn-widget-manager/b3e629b1971e1542/manager.min.js"
                }
              }
            }
          }
        }
      ]
    },
    {
      "cell_type": "code",
      "source": [
        "df.info()"
      ],
      "metadata": {
        "colab": {
          "base_uri": "https://localhost:8080/"
        },
        "id": "pjfS3BhddFDx",
        "outputId": "7ca1d526-2acc-4a26-80f7-644eddb8da7a"
      },
      "execution_count": null,
      "outputs": [
        {
          "output_type": "stream",
          "name": "stdout",
          "text": [
            "<class 'lux.core.frame.LuxDataFrame'>\n",
            "RangeIndex: 778 entries, 0 to 777\n",
            "Data columns (total 7 columns):\n",
            " #   Column      Non-Null Count  Dtype  \n",
            "---  ------      --------------  -----  \n",
            " 0   Pop2023     778 non-null    int64  \n",
            " 1   Pop2022     778 non-null    int64  \n",
            " 2   City        778 non-null    object \n",
            " 3   Country     778 non-null    object \n",
            " 4   Continent   778 non-null    object \n",
            " 5   growthRate  778 non-null    float64\n",
            " 6   rank        778 non-null    int64  \n",
            "dtypes: float64(1), int64(3), object(3)\n",
            "memory usage: 42.7+ KB\n"
          ]
        }
      ]
    },
    {
      "cell_type": "code",
      "source": [
        "df=df.drop(\"Unnamed: 7\",axis=1)"
      ],
      "metadata": {
        "id": "rlzjmzXydE_K"
      },
      "execution_count": null,
      "outputs": []
    },
    {
      "cell_type": "code",
      "source": [
        "df"
      ],
      "metadata": {
        "colab": {
          "base_uri": "https://localhost:8080/",
          "height": 456,
          "referenced_widgets": [
            "f27085b0f585410f8915600a2249a8ac",
            "f31ac79f6741470ab7d30abbb1ade853",
            "55e5267b0b00458fb78fa4ecb7fc8559",
            "d4a84a5323c5413a8308b8feb116640c",
            "a9f841b9a6464d4c89a15ee1039b9619"
          ]
        },
        "id": "99pdaYCjdE6V",
        "outputId": "44838375-a77c-45c3-e184-97e58271a54e"
      },
      "execution_count": null,
      "outputs": [
        {
          "output_type": "display_data",
          "data": {
            "text/plain": [
              "Button(description='Toggle Pandas/Lux', layout=Layout(top='5px', width='140px'), style=ButtonStyle())"
            ],
            "application/vnd.jupyter.widget-view+json": {
              "version_major": 2,
              "version_minor": 0,
              "model_id": "f27085b0f585410f8915600a2249a8ac"
            }
          },
          "metadata": {}
        },
        {
          "output_type": "display_data",
          "data": {
            "text/plain": [
              "Output()"
            ],
            "application/vnd.jupyter.widget-view+json": {
              "version_major": 2,
              "version_minor": 0,
              "model_id": "d4a84a5323c5413a8308b8feb116640c"
            }
          },
          "metadata": {}
        }
      ]
    },
    {
      "cell_type": "markdown",
      "source": [
        "# VIZ"
      ],
      "metadata": {
        "id": "l0dxGpfIddJK"
      }
    },
    {
      "cell_type": "code",
      "source": [
        "df.intent=[\"Pop2022\"]\n",
        "df"
      ],
      "metadata": {
        "colab": {
          "base_uri": "https://localhost:8080/",
          "height": 1000
        },
        "id": "DUpnZbsidE2n",
        "outputId": "803bd88c-6f65-4f4d-ad15-3949656143c6"
      },
      "execution_count": null,
      "outputs": [
        {
          "output_type": "stream",
          "name": "stderr",
          "text": [
            "/usr/local/lib/python3.10/dist-packages/IPython/core/formatters.py:918: UserWarning:\n",
            "Unexpected error in rendering Lux widget and recommendations. Falling back to Pandas display.\n",
            "Please report the following issue on Github: https://github.com/lux-org/lux/issues \n",
            "\n",
            "/usr/local/lib/python3.10/dist-packages/lux/core/frame.py:632: UserWarning:Traceback (most recent call last):\n",
            "  File \"/usr/local/lib/python3.10/dist-packages/lux/core/frame.py\", line 594, in _ipython_display_\n",
            "    self.maintain_recs()\n",
            "  File \"/usr/local/lib/python3.10/dist-packages/lux/core/frame.py\", line 436, in maintain_recs\n",
            "    custom_action_collection = custom_actions(rec_df)\n",
            "  File \"/usr/local/lib/python3.10/dist-packages/lux/action/custom.py\", line 76, in custom_actions\n",
            "    recommendation = lux.config.actions[action_name].action(ldf)\n",
            "  File \"/usr/local/lib/python3.10/dist-packages/lux/action/enhance.py\", line 65, in enhance\n",
            "    vlist = lux.vis.VisList.VisList(intent, ldf)\n",
            "  File \"/usr/local/lib/python3.10/dist-packages/lux/vis/VisList.py\", line 43, in __init__\n",
            "    self.refresh_source(self._source)\n",
            "  File \"/usr/local/lib/python3.10/dist-packages/lux/vis/VisList.py\", line 336, in refresh_source\n",
            "    lux.config.executor.execute(self._collection, ldf, approx=approx)\n",
            "  File \"/usr/local/lib/python3.10/dist-packages/lux/executor/PandasExecutor.py\", line 138, in execute\n",
            "    PandasExecutor.execute_aggregate(vis, isFiltered=filter_executed)\n",
            "  File \"/usr/local/lib/python3.10/dist-packages/lux/executor/PandasExecutor.py\", line 237, in execute_aggregate\n",
            "    vis._vis_data = vis.data.merge(df,on=[columns[0], columns[1]],how=\"right\",suffixes=[\"\", \"_right\"],)\n",
            "  File \"/usr/local/lib/python3.10/dist-packages/pandas/core/frame.py\", line 10093, in merge\n",
            "    return merge(\n",
            "  File \"/usr/local/lib/python3.10/dist-packages/pandas/core/reshape/merge.py\", line 124, in merge\n",
            "    return op.get_result(copy=copy)\n",
            "  File \"/usr/local/lib/python3.10/dist-packages/pandas/core/reshape/merge.py\", line 783, in get_result\n",
            "    self._maybe_add_join_keys(result, left_indexer, right_indexer)\n",
            "  File \"/usr/local/lib/python3.10/dist-packages/pandas/core/reshape/merge.py\", line 979, in _maybe_add_join_keys\n",
            "    result[name] = Series(\n",
            "  File \"/usr/local/lib/python3.10/dist-packages/pandas/core/frame.py\", line 3980, in __setitem__\n",
            "    self._set_item(key, value)\n",
            "  File \"/usr/local/lib/python3.10/dist-packages/lux/core/frame.py\", line 193, in _set_item\n",
            "    super(LuxDataFrame, self)._set_item(key, value)\n",
            "  File \"/usr/local/lib/python3.10/dist-packages/pandas/core/frame.py\", line 4174, in _set_item\n",
            "    value = self._sanitize_column(value)\n",
            "  File \"/usr/local/lib/python3.10/dist-packages/pandas/core/frame.py\", line 4912, in _sanitize_column\n",
            "    return _reindex_for_setitem(Series(value), self.index)\n",
            "  File \"/usr/local/lib/python3.10/dist-packages/pandas/core/series.py\", line 436, in __init__\n",
            "    data, index = self._init_dict(data, index, dtype)\n",
            "  File \"/usr/local/lib/python3.10/dist-packages/pandas/core/series.py\", line 511, in _init_dict\n",
            "    if data:\n",
            "  File \"/usr/local/lib/python3.10/dist-packages/pandas/core/generic.py\", line 1527, in __nonzero__\n",
            "    raise ValueError(\n",
            "ValueError: The truth value of a Series is ambiguous. Use a.empty, a.bool(), a.item(), a.any() or a.all().\n",
            "\n"
          ]
        },
        {
          "output_type": "display_data",
          "data": {
            "text/plain": [
              "      Pop2023   Pop2022             City     Country      Continent  \\\n",
              "0    37194104  37274000            Tokyo       Japan           Asia   \n",
              "1    32941308  32065760            Delhi       India           Asia   \n",
              "2    29210808  28516904         Shanghai       China           Asia   \n",
              "3    23209616  22478116            Dhaka  Bangladesh           Asia   \n",
              "4    22619736  22429800        Sao Paulo      Brazil  South America   \n",
              "..        ...       ...              ...         ...            ...   \n",
              "773    752916    734805         Tongling       China           Asia   \n",
              "774    752744    729109         Tirupati       India           Asia   \n",
              "775    751679    733917           Wuzhou       China           Asia   \n",
              "776    750102    723114             Yuxi       China           Asia   \n",
              "777    750097    733643  Suining Sichuan       China           Asia   \n",
              "\n",
              "     growthRate  rank  Unnamed: 7  \n",
              "0       -0.0021     1         NaN  \n",
              "1        0.0273     2         NaN  \n",
              "2        0.0243     3         NaN  \n",
              "3        0.0325     4         NaN  \n",
              "4        0.0085     5         NaN  \n",
              "..          ...   ...         ...  \n",
              "773      0.0246   774         NaN  \n",
              "774      0.0324   775         NaN  \n",
              "775      0.0242   776         NaN  \n",
              "776      0.0373   777         NaN  \n",
              "777      0.0224   778         NaN  \n",
              "\n",
              "[778 rows x 8 columns]"
            ],
            "text/html": [
              "\n",
              "  <div id=\"df-8b381ec1-96c8-4703-b0cf-ad753c5340f6\">\n",
              "    <div class=\"colab-df-container\">\n",
              "      <div>\n",
              "<style scoped>\n",
              "    .dataframe tbody tr th:only-of-type {\n",
              "        vertical-align: middle;\n",
              "    }\n",
              "\n",
              "    .dataframe tbody tr th {\n",
              "        vertical-align: top;\n",
              "    }\n",
              "\n",
              "    .dataframe thead th {\n",
              "        text-align: right;\n",
              "    }\n",
              "</style>\n",
              "<table border=\"1\" class=\"dataframe\">\n",
              "  <thead>\n",
              "    <tr style=\"text-align: right;\">\n",
              "      <th></th>\n",
              "      <th>Pop2023</th>\n",
              "      <th>Pop2022</th>\n",
              "      <th>City</th>\n",
              "      <th>Country</th>\n",
              "      <th>Continent</th>\n",
              "      <th>growthRate</th>\n",
              "      <th>rank</th>\n",
              "      <th>Unnamed: 7</th>\n",
              "    </tr>\n",
              "  </thead>\n",
              "  <tbody>\n",
              "    <tr>\n",
              "      <th>0</th>\n",
              "      <td>37194104</td>\n",
              "      <td>37274000</td>\n",
              "      <td>Tokyo</td>\n",
              "      <td>Japan</td>\n",
              "      <td>Asia</td>\n",
              "      <td>-0.0021</td>\n",
              "      <td>1</td>\n",
              "      <td>NaN</td>\n",
              "    </tr>\n",
              "    <tr>\n",
              "      <th>1</th>\n",
              "      <td>32941308</td>\n",
              "      <td>32065760</td>\n",
              "      <td>Delhi</td>\n",
              "      <td>India</td>\n",
              "      <td>Asia</td>\n",
              "      <td>0.0273</td>\n",
              "      <td>2</td>\n",
              "      <td>NaN</td>\n",
              "    </tr>\n",
              "    <tr>\n",
              "      <th>2</th>\n",
              "      <td>29210808</td>\n",
              "      <td>28516904</td>\n",
              "      <td>Shanghai</td>\n",
              "      <td>China</td>\n",
              "      <td>Asia</td>\n",
              "      <td>0.0243</td>\n",
              "      <td>3</td>\n",
              "      <td>NaN</td>\n",
              "    </tr>\n",
              "    <tr>\n",
              "      <th>3</th>\n",
              "      <td>23209616</td>\n",
              "      <td>22478116</td>\n",
              "      <td>Dhaka</td>\n",
              "      <td>Bangladesh</td>\n",
              "      <td>Asia</td>\n",
              "      <td>0.0325</td>\n",
              "      <td>4</td>\n",
              "      <td>NaN</td>\n",
              "    </tr>\n",
              "    <tr>\n",
              "      <th>4</th>\n",
              "      <td>22619736</td>\n",
              "      <td>22429800</td>\n",
              "      <td>Sao Paulo</td>\n",
              "      <td>Brazil</td>\n",
              "      <td>South America</td>\n",
              "      <td>0.0085</td>\n",
              "      <td>5</td>\n",
              "      <td>NaN</td>\n",
              "    </tr>\n",
              "    <tr>\n",
              "      <th>...</th>\n",
              "      <td>...</td>\n",
              "      <td>...</td>\n",
              "      <td>...</td>\n",
              "      <td>...</td>\n",
              "      <td>...</td>\n",
              "      <td>...</td>\n",
              "      <td>...</td>\n",
              "      <td>...</td>\n",
              "    </tr>\n",
              "    <tr>\n",
              "      <th>773</th>\n",
              "      <td>752916</td>\n",
              "      <td>734805</td>\n",
              "      <td>Tongling</td>\n",
              "      <td>China</td>\n",
              "      <td>Asia</td>\n",
              "      <td>0.0246</td>\n",
              "      <td>774</td>\n",
              "      <td>NaN</td>\n",
              "    </tr>\n",
              "    <tr>\n",
              "      <th>774</th>\n",
              "      <td>752744</td>\n",
              "      <td>729109</td>\n",
              "      <td>Tirupati</td>\n",
              "      <td>India</td>\n",
              "      <td>Asia</td>\n",
              "      <td>0.0324</td>\n",
              "      <td>775</td>\n",
              "      <td>NaN</td>\n",
              "    </tr>\n",
              "    <tr>\n",
              "      <th>775</th>\n",
              "      <td>751679</td>\n",
              "      <td>733917</td>\n",
              "      <td>Wuzhou</td>\n",
              "      <td>China</td>\n",
              "      <td>Asia</td>\n",
              "      <td>0.0242</td>\n",
              "      <td>776</td>\n",
              "      <td>NaN</td>\n",
              "    </tr>\n",
              "    <tr>\n",
              "      <th>776</th>\n",
              "      <td>750102</td>\n",
              "      <td>723114</td>\n",
              "      <td>Yuxi</td>\n",
              "      <td>China</td>\n",
              "      <td>Asia</td>\n",
              "      <td>0.0373</td>\n",
              "      <td>777</td>\n",
              "      <td>NaN</td>\n",
              "    </tr>\n",
              "    <tr>\n",
              "      <th>777</th>\n",
              "      <td>750097</td>\n",
              "      <td>733643</td>\n",
              "      <td>Suining Sichuan</td>\n",
              "      <td>China</td>\n",
              "      <td>Asia</td>\n",
              "      <td>0.0224</td>\n",
              "      <td>778</td>\n",
              "      <td>NaN</td>\n",
              "    </tr>\n",
              "  </tbody>\n",
              "</table>\n",
              "<p>778 rows × 8 columns</p>\n",
              "</div>\n",
              "      <button class=\"colab-df-convert\" onclick=\"convertToInteractive('df-8b381ec1-96c8-4703-b0cf-ad753c5340f6')\"\n",
              "              title=\"Convert this dataframe to an interactive table.\"\n",
              "              style=\"display:none;\">\n",
              "        \n",
              "  <svg xmlns=\"http://www.w3.org/2000/svg\" height=\"24px\"viewBox=\"0 0 24 24\"\n",
              "       width=\"24px\">\n",
              "    <path d=\"M0 0h24v24H0V0z\" fill=\"none\"/>\n",
              "    <path d=\"M18.56 5.44l.94 2.06.94-2.06 2.06-.94-2.06-.94-.94-2.06-.94 2.06-2.06.94zm-11 1L8.5 8.5l.94-2.06 2.06-.94-2.06-.94L8.5 2.5l-.94 2.06-2.06.94zm10 10l.94 2.06.94-2.06 2.06-.94-2.06-.94-.94-2.06-.94 2.06-2.06.94z\"/><path d=\"M17.41 7.96l-1.37-1.37c-.4-.4-.92-.59-1.43-.59-.52 0-1.04.2-1.43.59L10.3 9.45l-7.72 7.72c-.78.78-.78 2.05 0 2.83L4 21.41c.39.39.9.59 1.41.59.51 0 1.02-.2 1.41-.59l7.78-7.78 2.81-2.81c.8-.78.8-2.07 0-2.86zM5.41 20L4 18.59l7.72-7.72 1.47 1.35L5.41 20z\"/>\n",
              "  </svg>\n",
              "      </button>\n",
              "      \n",
              "  <style>\n",
              "    .colab-df-container {\n",
              "      display:flex;\n",
              "      flex-wrap:wrap;\n",
              "      gap: 12px;\n",
              "    }\n",
              "\n",
              "    .colab-df-convert {\n",
              "      background-color: #E8F0FE;\n",
              "      border: none;\n",
              "      border-radius: 50%;\n",
              "      cursor: pointer;\n",
              "      display: none;\n",
              "      fill: #1967D2;\n",
              "      height: 32px;\n",
              "      padding: 0 0 0 0;\n",
              "      width: 32px;\n",
              "    }\n",
              "\n",
              "    .colab-df-convert:hover {\n",
              "      background-color: #E2EBFA;\n",
              "      box-shadow: 0px 1px 2px rgba(60, 64, 67, 0.3), 0px 1px 3px 1px rgba(60, 64, 67, 0.15);\n",
              "      fill: #174EA6;\n",
              "    }\n",
              "\n",
              "    [theme=dark] .colab-df-convert {\n",
              "      background-color: #3B4455;\n",
              "      fill: #D2E3FC;\n",
              "    }\n",
              "\n",
              "    [theme=dark] .colab-df-convert:hover {\n",
              "      background-color: #434B5C;\n",
              "      box-shadow: 0px 1px 3px 1px rgba(0, 0, 0, 0.15);\n",
              "      filter: drop-shadow(0px 1px 2px rgba(0, 0, 0, 0.3));\n",
              "      fill: #FFFFFF;\n",
              "    }\n",
              "  </style>\n",
              "\n",
              "      <script>\n",
              "        const buttonEl =\n",
              "          document.querySelector('#df-8b381ec1-96c8-4703-b0cf-ad753c5340f6 button.colab-df-convert');\n",
              "        buttonEl.style.display =\n",
              "          google.colab.kernel.accessAllowed ? 'block' : 'none';\n",
              "\n",
              "        async function convertToInteractive(key) {\n",
              "          const element = document.querySelector('#df-8b381ec1-96c8-4703-b0cf-ad753c5340f6');\n",
              "          const dataTable =\n",
              "            await google.colab.kernel.invokeFunction('convertToInteractive',\n",
              "                                                     [key], {});\n",
              "          if (!dataTable) return;\n",
              "\n",
              "          const docLinkHtml = 'Like what you see? Visit the ' +\n",
              "            '<a target=\"_blank\" href=https://colab.research.google.com/notebooks/data_table.ipynb>data table notebook</a>'\n",
              "            + ' to learn more about interactive tables.';\n",
              "          element.innerHTML = '';\n",
              "          dataTable['output_type'] = 'display_data';\n",
              "          await google.colab.output.renderOutput(dataTable, element);\n",
              "          const docLink = document.createElement('div');\n",
              "          docLink.innerHTML = docLinkHtml;\n",
              "          element.appendChild(docLink);\n",
              "        }\n",
              "      </script>\n",
              "    </div>\n",
              "  </div>\n",
              "  "
            ]
          },
          "metadata": {}
        }
      ]
    }
  ]
}